{
 "cells": [
  {
   "cell_type": "code",
   "execution_count": 1,
   "metadata": {},
   "outputs": [],
   "source": [
    "import cv2 # Import the OpenCV library\n",
    "import numpy as np # Import Numpy library\n",
    "import pandas as pd # Import Pandas library\n",
    "import sys # Enables the passing of arguments\n",
    " \n",
    "# Project: Annotate Images Using OpenCV\n",
    "# Author: Addison Sears-Collins\n",
    "# Date created: 9/11/2019\n",
    "# Python version: 3.7\n",
    "# Description: This program allows users to click in an image, annotate a \n",
    "#   number of points within an image, and export the annotated points into\n",
    "#   a CSV file."
   ]
  },
  {
   "cell_type": "code",
   "execution_count": 2,
   "metadata": {},
   "outputs": [],
   "source": [
    "# Define the file name of the image\n",
    "INPUT_IMAGE = \"/Users/ahamm/Documents/Thesis/Training_Set_1/set1/Case 3 A10-17206-19249.jpg\" # \"cat_dog.jpg\"\n",
    "IMAGE_NAME = INPUT_IMAGE[:INPUT_IMAGE.index(\".\")]\n",
    "OUTPUT_IMAGE = IMAGE_NAME + \"_annotated.jpg\"\n",
    "output_csv_file = sys.argv[2]"
   ]
  },
  {
   "cell_type": "code",
   "execution_count": 3,
   "metadata": {},
   "outputs": [],
   "source": [
    "# Load the image and store into a variable\n",
    "# -1 means load unchanged\n",
    "image = cv2.imread(INPUT_IMAGE, -1)\n",
    " \n",
    "# Create lists to store all x, y, and annotation values\n",
    "x_vals = []\n",
    "y_vals = []\n",
    "annotation_vals = []\n",
    " \n",
    "# Dictionary containing some colors\n",
    "colors = {'blue': (255, 0, 0), 'green': (0, 255, 0), 'red': (0, 0, 255), \n",
    "          'yellow': (0, 255, 255),'magenta': (255, 0, 255), \n",
    "          'cyan': (255, 255, 0), 'white': (255, 255, 255), 'black': (0, 0, 0), \n",
    "          'gray': (125, 125, 125), \n",
    "          'rand': np.random.randint(0, high=256, size=(3,)).tolist(), \n",
    "          'dark_gray': (50, 50, 50), 'light_gray': (220, 220, 220)}\n",
    " \n",
    "def draw_circle(event, x, y, flags, param):\n",
    "    \"\"\"\n",
    "    Draws dots on double clicking of the left mouse button\n",
    "    \"\"\"\n",
    "    # Store the height and width of the image\n",
    "    height = image.shape[0]\n",
    "    width = image.shape[1]\n",
    " \n",
    "    if event == cv2.EVENT_LBUTTONDBLCLK:\n",
    "        # Draw the dot\n",
    "        cv2.circle(image, (x, y), 5, colors['magenta'], -1)\n",
    " \n",
    "        # Annotate the image\n",
    "        txt = input(\"Describe this pixel using one word (e.g. dog) and press ENTER: \")\n",
    " \n",
    "        # Append values to the list\n",
    "        x_vals.append(x)\n",
    "        y_vals.append(y)\n",
    "        annotation_vals.append(txt)\n",
    " \n",
    "        # Print the coordinates and the annotation to the console\n",
    "        print(\"x = \" + str(x) + \"  y = \" + str(y) + \"  Annotation = \" + txt + \"\\n\")\n",
    " \n",
    "        # Set the position of the text part of the annotation\n",
    "        text_x_pos = None\n",
    "        text_y_pos = y\n",
    " \n",
    "        if x < (width/2):\n",
    "            text_x_pos = int(x + (width * 0.075))\n",
    "        else:\n",
    "            text_x_pos = int(x - (width * 0.075))\n",
    "  \n",
    "        # Write text on the image\n",
    "        cv2.putText(image, txt, (text_x_pos,text_y_pos), cv2.FONT_HERSHEY_SIMPLEX, 1, colors['magenta'], 2)\n",
    " \n",
    "        cv2.imwrite(OUTPUT_IMAGE, image)\n",
    " \n",
    "        # Prompt user for another annotation\n",
    "        print(\"Double click another pixel or press 'q' to quit...\\n\")\n"
   ]
  },
  {
   "cell_type": "code",
   "execution_count": 4,
   "metadata": {},
   "outputs": [
    {
     "name": "stdout",
     "output_type": "stream",
     "text": [
      "Welcome to the Image Annotation Program!\n",
      "\n",
      "Double click anywhere inside the image to annotate that point...\n",
      "\n",
      "Describe this pixel using one word (e.g. dog) and press ENTER: Tumor\n",
      "x = 501  y = 596  Annotation = Tumor\n",
      "\n",
      "Double click another pixel or press 'q' to quit...\n",
      "\n",
      "\n",
      "     X    Y Annotation\n",
      "0  501  596      Tumor\n",
      "\n"
     ]
    }
   ],
   "source": [
    "print(\"Welcome to the Image Annotation Program!\\n\")\n",
    "print(\"Double click anywhere inside the image to annotate that point...\\n\")\n",
    " \n",
    "# We create a named window where the mouse callback will be established\n",
    "cv2.namedWindow('Image mouse')\n",
    " \n",
    "# We set the mouse callback function to 'draw_circle':\n",
    "cv2.setMouseCallback('Image mouse', draw_circle)\n",
    " \n",
    "while True:\n",
    "    # Show image 'Image mouse':\n",
    "    cv2.imshow('Image mouse', image)\n",
    " \n",
    "    # Continue until 'q' is pressed:\n",
    "    if cv2.waitKey(20) & 0xFF == ord('q'):\n",
    "        break\n",
    " \n",
    "# Create a dictionary using lists\n",
    "data = {'X':x_vals,'Y':y_vals,'Annotation':annotation_vals}\n",
    " \n",
    "# Create the Pandas DataFrame\n",
    "df = pd.DataFrame(data)\n",
    "print()\n",
    "print(df)\n",
    "print()\n",
    " \n",
    "# Export the dataframe to a csv file\n",
    "df.to_csv(path_or_buf = output_csv_file, index = None, header=True) \n",
    " \n",
    "# Destroy all generated windows:\n",
    "cv2.destroyAllWindows()"
   ]
  },
  {
   "cell_type": "code",
   "execution_count": null,
   "metadata": {},
   "outputs": [],
   "source": []
  },
  {
   "cell_type": "code",
   "execution_count": null,
   "metadata": {},
   "outputs": [],
   "source": []
  }
 ],
 "metadata": {
  "kernelspec": {
   "display_name": "Python 3",
   "language": "python",
   "name": "python3"
  },
  "language_info": {
   "codemirror_mode": {
    "name": "ipython",
    "version": 3
   },
   "file_extension": ".py",
   "mimetype": "text/x-python",
   "name": "python",
   "nbconvert_exporter": "python",
   "pygments_lexer": "ipython3",
   "version": "3.7.9"
  }
 },
 "nbformat": 4,
 "nbformat_minor": 4
}
